{
  "nbformat": 4,
  "nbformat_minor": 0,
  "metadata": {
    "colab": {
      "provenance": [],
      "collapsed_sections": [
        "uE2SF_ssbx2w",
        "kugpDpD8benf",
        "W7E1XZ6YbpDJ"
      ],
      "authorship_tag": "ABX9TyMlptjbTFhaEwXDYxHi8cHZ",
      "include_colab_link": true
    },
    "kernelspec": {
      "name": "python3",
      "display_name": "Python 3"
    },
    "language_info": {
      "name": "python"
    }
  },
  "cells": [
    {
      "cell_type": "markdown",
      "metadata": {
        "id": "view-in-github",
        "colab_type": "text"
      },
      "source": [
        "<a href=\"https://colab.research.google.com/github/amir-al/AHE-Adaptive-Histogram-Equalization/blob/main/AHE_Adaptive_Histogram_Equalization.ipynb\" target=\"_parent\"><img src=\"https://colab.research.google.com/assets/colab-badge.svg\" alt=\"Open In Colab\"/></a>"
      ]
    },
    {
      "cell_type": "markdown",
      "source": [
        "### **Mounting Google Drive**\n",
        "First, you need to mount your Google Drive to your Google Colab environment. You can do this by running the following code in a cell."
      ],
      "metadata": {
        "id": "uE2SF_ssbx2w"
      }
    },
    {
      "cell_type": "code",
      "source": [
        "from google.colab import drive\n",
        "drive.mount('/content/drive')"
      ],
      "metadata": {
        "id": "nXgAcAumavq_"
      },
      "execution_count": null,
      "outputs": []
    },
    {
      "cell_type": "markdown",
      "source": [
        "### **Importing necessary libraries**"
      ],
      "metadata": {
        "id": "kugpDpD8benf"
      }
    },
    {
      "cell_type": "code",
      "source": [
        "import cv2\n",
        "import os\n",
        "import glob\n",
        "import numpy as np\n",
        "from google.colab.patches import cv2_imshow"
      ],
      "metadata": {
        "id": "UYfbwmfubWr8"
      },
      "execution_count": null,
      "outputs": []
    },
    {
      "cell_type": "code",
      "source": [
        "!pip install opencv-python-headless"
      ],
      "metadata": {
        "id": "8IcvZVlIbZlv"
      },
      "execution_count": null,
      "outputs": []
    },
    {
      "cell_type": "markdown",
      "source": [
        "### **Adaptive Histogram Equalization**"
      ],
      "metadata": {
        "id": "W7E1XZ6YbpDJ"
      }
    },
    {
      "cell_type": "markdown",
      "source": [
        "This code will read all the images in a directory, apply Adaptive Histogram Equalization to them while **preserving the color**, and then save them to a new directory."
      ],
      "metadata": {
        "id": "Oriq4ilrdHX1"
      }
    },
    {
      "cell_type": "code",
      "source": [
        "def apply_ahist(img_path, output_dir):\n",
        "    img = cv2.imread(img_path)\n",
        "    img_yuv = cv2.cvtColor(img, cv2.COLOR_BGR2YUV)\n",
        "\n",
        "    # Apply Adaptive Histogram Equalization to the Y channel\n",
        "    img_yuv[:,:,0] = cv2.equalizeHist(img_yuv[:,:,0])\n",
        "\n",
        "    # Convert the YUV image back to RGB format\n",
        "    img_output = cv2.cvtColor(img_yuv, cv2.COLOR_YUV2BGR)\n",
        "\n",
        "    # Save the output image\n",
        "    base_name = os.path.basename(img_path)\n",
        "    output_path = os.path.join(output_dir, base_name)\n",
        "    cv2.imwrite(output_path, img_output)\n",
        "\n",
        "def process_images(input_dir, output_dir):\n",
        "    # Create output directory if it doesn't exist\n",
        "    if not os.path.exists(output_dir):\n",
        "        os.makedirs(output_dir)\n",
        "\n",
        "    # Get list of all image files in the input directory\n",
        "    img_files = glob.glob(os.path.join(input_dir, '*'))\n",
        "\n",
        "    # Apply Adaptive Histogram Equalization to each image\n",
        "    for img_path in img_files:\n",
        "        apply_ahist(img_path, output_dir)"
      ],
      "metadata": {
        "id": "jMCV_AWybtdD"
      },
      "execution_count": null,
      "outputs": []
    },
    {
      "cell_type": "markdown",
      "source": [
        "In this code, replace '/content/drive/MyDrive/path_to_input_directory' and '/content/drive/MyDrive/path_to_output_directory' with the paths to your input and output directories in your Google Drive, respectively. The code will create the output directory if it does not exist.\n",
        "\n",
        "It will then apply Adaptive Histogram Equalization to each image in the input directory and save the output images to the output directory. The filenames of the output images will be the same as the input images.\n",
        "\n",
        "Please note that this code assumes that the images are in a format that OpenCV can read (such as .jpg, .png, .bmp, etc.). If you have images in a different format, you may need to modify the code accordingly."
      ],
      "metadata": {
        "id": "67XOaFAtc1dW"
      }
    },
    {
      "cell_type": "code",
      "source": [
        "# Example usage:\n",
        "process_images('path_to_input_directory', 'path_to_output_directory')"
      ],
      "metadata": {
        "id": "Qomqr-k4cbvy"
      },
      "execution_count": null,
      "outputs": []
    }
  ]
}